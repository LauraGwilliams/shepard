{
 "cells": [
  {
   "cell_type": "code",
   "execution_count": 1,
   "metadata": {
    "collapsed": true
   },
   "outputs": [],
   "source": [
    "%matplotlib inline\n",
    "\n",
    "import pyaudio\n",
    "import numpy as np\n",
    "import matplotlib.pyplot as plt\n",
    "from matplotlib.pyplot import specgram\n",
    "\n",
    "def play_sound(x, amp=0.5):\n",
    "\n",
    "    p = pyaudio.PyAudio()\n",
    "    # for paFloat32 sample values must be in range [-1.0, 1.0]\n",
    "    stream = p.open(format=pyaudio.paFloat32,\n",
    "                    channels=1,\n",
    "                    rate=fs,\n",
    "                    output=True)\n",
    "\n",
    "    # play. May repeat with different volume values (if done interactively) \n",
    "    stream.write(amp*x)\n",
    "    stream.stop_stream()\n",
    "    stream.close()\n",
    "    p.terminate()\n",
    "    pass\n",
    "\n",
    "\n",
    "def find_nearest(array, value):\n",
    "    idx = (np.abs(array-value)).argmin()\n",
    "    return idx\n",
    "\n",
    "\n",
    "def make_sound(f, fs=44100, duration=1.0):\n",
    "    # generate samples, note conversion to float32 array\n",
    "    x = (np.sin(2*np.pi*np.arange(fs*duration)*f/fs)).astype(np.float32)\n",
    "    return x\n",
    "\n",
    "\n",
    "def make_AM_sound(f, amp_modulator, fs=44100, duration=1.0):\n",
    "    # generate samples, note conversion to float32 array\n",
    "    x = make_sound(f, fs, duration)\n",
    "    x = np.multiply(x, amp_modulator)\n",
    "    return x\n",
    "\n",
    "\n",
    "def make_FM_sound(f, freq_modulator, fs=44100, duration=1.0):\n",
    "    # generate samples, note conversion to float32 array\n",
    "    fs = float(fs)\n",
    "    x = (np.sin(2*np.pi*np.arange(fs*duration)*np.multiply(f/fs, freq_modulator))).astype(np.float32)\n",
    "    return x\n",
    "\n",
    "\n",
    "def complex_tone(freqs, amps, duration):\n",
    "   # make tone\n",
    "    tones = list()\n",
    "    for amp, f in zip(amps, freqs):\n",
    "        tones.append(make_sound(f, fs=fs, duration=duration)*amp)\n",
    "    tone = np.array(tones).sum(0)  # sum the frequencies together\n",
    "    return tone\n",
    "\n",
    "\n",
    "def power_to_db(power, conversion_val=10):\n",
    "    '''\n",
    "    This is the conversion from power -> dB, as taken from a stack exchange forum.\n",
    "    '''\n",
    "    return conversion_val*np.log10(power)\n",
    "\n",
    "\n",
    "def db_to_power(db, conversion_val=10):\n",
    "    '''\n",
    "    This is the conversion from dB -> power, as also taken from a stack exchange forum.\n",
    "    '''\n",
    "    return 10 ** (db/conversion_val)\n",
    "\n",
    "\n",
    "def get_fft_half(tone, fs):\n",
    "    power = np.abs(np.fft.fft(tone))\n",
    "    n = len(power)\n",
    "    freq = np.fft.fftfreq(n, 1/float(fs))\n",
    "\n",
    "    # just get first half of spectrum\n",
    "    half_n = int(np.ceil(n/2.0))\n",
    "#     power = (2.0 / n) * power[:half_n]\n",
    "    power = power[:half_n]\n",
    "    freq_half = freq[:half_n]\n",
    "    return power, freq_half\n",
    "\n",
    "\n",
    "def get_db(tone, fs):\n",
    "\n",
    "    N = 8192  # not sure where this comes from ... :/\n",
    "    win = np.hamming(N)                                                       \n",
    "    x = tone[0:N] * win                             # Take a slice and multiply by a window\n",
    "\n",
    "    sp = np.fft.rfft(x)                               # Calculate real FFT (this just means the first half)\n",
    "\n",
    "    mag = np.abs(sp) \n",
    "    ref = np.sum(win) / 2                             # Reference : window sum and factor of 2\n",
    "                                                      # because we are using half of FFT spectrum\n",
    "\n",
    "    s_dbfs = 20 * np.log10(mag / ref)                 # Convert to dBFS\n",
    "    \n",
    "    freq = np.fft.fftfreq(N, 1/float(fs))\n",
    "    half_n = int(np.ceil(N/2.0))  # not sure about N\n",
    "    freq_half = freq[:half_n+1]\n",
    "    \n",
    "    return s_dbfs, freq_half\n",
    "\n",
    "\n",
    "def plot_wave_and_fft(tone, fs, t_max, freq_max, power_max):\n",
    "    # plot waveform\n",
    "    f, axs = plt.subplots(1, 2, figsize=(15, 5))\n",
    "    axs[0].plot(tone)\n",
    "    axs[0].set_xlim([0, t_max])\n",
    "    axs[0].set_xlabel('Time (ms)')\n",
    "    axs[0].set_ylabel('Amplitude')\n",
    "\n",
    "    # get fft\n",
    "    power, freq_half = get_fft_half(tone, fs)\n",
    "\n",
    "    # plot fft\n",
    "    axs[1].plot(freq_half, power, lw=4, c='k')\n",
    "    axs[1].set_xlim([0, freq_max])\n",
    "    axs[1].set_ylim([0, power_max])\n",
    "    axs[1].set_xlabel('Frequency (Hz)')\n",
    "    axs[1].set_ylabel('Power')\n",
    "    return f\n",
    "\n",
    "\n",
    "def plot_wave_and_db(tone, fs, t_max, freq_max):\n",
    "    # plot waveform\n",
    "    f, axs = plt.subplots(1, 2, figsize=(15, 5))\n",
    "    axs[0].plot(tone)\n",
    "    axs[0].set_xlim([0, t_max])\n",
    "    axs[0].set_xlabel('Time (ms)')\n",
    "    axs[0].set_ylabel('Amplitude')\n",
    "\n",
    "    # get fft\n",
    "    db, freq_half = get_db(tone, fs)\n",
    "\n",
    "    # plot fft\n",
    "    axs[1].plot(freq_half, power_to_db(power), lw=4, c='k')\n",
    "    axs[1].set_xlim([0, freq_max])\n",
    "    axs[1].set_xlabel('Frequency (Hz)')\n",
    "    axs[1].set_ylabel('dB')\n",
    "    return f\n",
    "\n",
    "\n",
    "def expspace(start, stop, num, density='natural'):\n",
    "    lin = np.linspace(np.sqrt(start), np.sqrt(stop), num)\n",
    "    if density == 'natural':\n",
    "        return lin**2\n",
    "    elif density == 'flip':\n",
    "        shift = stop+start\n",
    "        return (shift-(lin**2))[::-1]"
   ]
  },
  {
   "cell_type": "code",
   "execution_count": 2,
   "metadata": {},
   "outputs": [
    {
     "data": {
      "text/plain": [
       "<matplotlib.legend.Legend at 0x106266910>"
      ]
     },
     "execution_count": 2,
     "metadata": {},
     "output_type": "execute_result"
    },
    {
     "data": {
      "image/png": "[encoded data removed]",
      "text/plain": [
       "<Figure size 432x288 with 1 Axes>"
      ]
     },
     "metadata": {},
     "output_type": "display_data"
    }
   ],
   "source": [
    "# demo the non-linear sampling of frequencies\n",
    "plt.plot(expspace(200, 20000, 100, 'flip'), label='what we are using', lw=4)\n",
    "plt.plot(expspace(200, 20000, 100, 'natural'), label='natural log', lw=4)\n",
    "plt.legend()"
   ]
  },
  {
   "cell_type": "code",
   "execution_count": 3,
   "metadata": {
    "collapsed": true
   },
   "outputs": [],
   "source": [
    "import time\n",
    "import pydsm  # for the adjustment between perceived amplitude and frequency\n",
    "from scipy.io.wavfile import write\n",
    "\n",
    "# params\n",
    "fs=44100  # sample freq\n",
    "duration=0.8\n",
    "tone_length = 0.3  # desired length in seconds\n",
    "\n",
    "# test this freq range\n",
    "min_freq = 200\n",
    "max_freq = 20000\n",
    "n_freqs = ((max_freq - min_freq)*2)+1\n",
    "n_freqs = 10\n",
    "freqs = expspace(min_freq, max_freq, n_freqs, 'flip')"
   ]
  },
  {
   "cell_type": "markdown",
   "metadata": {},
   "source": [
    "# (1) amplitude task\n",
    "\n",
    "### for this, we use b-weighting to adjust the perceptual volume across frequencies\n",
    "### the task will be for people to say whether or not a tone was present, so we can map their auditory acuity\n",
    "### we will test 10 frequencies (200-20,000Hz), 5 amplitudes, with 4 repetitions"
   ]
  },
  {
   "cell_type": "code",
   "execution_count": 4,
   "metadata": {},
   "outputs": [
    {
     "data": {
      "image/png": "[encoded data removed]",
      "text/plain": [
       "<Figure size 432x288 with 1 Axes>"
      ]
     },
     "metadata": {},
     "output_type": "display_data"
    }
   ],
   "source": [
    "# which method of correcting for perceptual amplitude?\n",
    "freqs = expspace(200, 20000, 18001, 'flip')\n",
    "\n",
    "base_amp = pydsm.audio_weightings.a_weighting(freqs)\n",
    "plt.plot(freqs, (1-base_amp)+1, label='a')\n",
    "base_amp = pydsm.audio_weightings.b_weighting(freqs)\n",
    "plt.plot(freqs, (1-base_amp)+1, label='b')\n",
    "base_amp = pydsm.audio_weightings.c_weighting(freqs)\n",
    "plt.plot(freqs, (1-base_amp)+1, label='c')\n",
    "base_amp = pydsm.audio_weightings.a_weighting(freqs)\n",
    "plt.plot(freqs, (1-base_amp)+1, label='d')\n",
    "plt.legend()\n",
    "plt.show()"
   ]
  },
  {
   "cell_type": "code",
   "execution_count": null,
   "metadata": {},
   "outputs": [],
   "source": [
    "base_dir = '/Users/lauragwilliams/Documents/experiments/shepard/shepard/pretests/amplitude'\n",
    "\n",
    "# we should test different amplitudes depending on the freq. we weight\n",
    "# the amplitude based on standard \n",
    "base_amp = pydsm.audio_weightings.b_weighting(freqs)\n",
    "amp_corrections = (1-base_amp)+1\n",
    "\n",
    "# test this amp range\n",
    "min_amp = 0\n",
    "max_amp = 0.2\n",
    "n_amps = 5\n",
    "\n",
    "# make tones, looping through each paramtere\n",
    "for amp_cor, freq in zip(amp_corrections, freqs):\n",
    "    for amps in np.linspace(min_amp, max_amp, n_amps):\n",
    "\n",
    "        # make tone\n",
    "        tone = complex_tone([freq], [amps*amp_cor], duration)\n",
    "#         play_sound(tone[100:int(fs*tone_length)+100])\n",
    "\n",
    "        # save to disk\n",
    "        fname = '%s/%s-%s.wav' % (base_dir, np.round(freq), np.round(amps, 3))\n",
    "        write(fname, fs, tone[0:int(fs*tone_length)].astype(np.int16))"
   ]
  },
  {
   "cell_type": "markdown",
   "metadata": {},
   "source": [
    "# (2) Pitch\n",
    "### here, we will also to a 2AFC, presenting ptps with different tones, and asking if the pitch is the same or different\n",
    "### we will use all semitones, and contrast them with the same, and up to one semitone away, in 25 cent increments\n",
    "### we use this table to get the semitone frequencies: https://pages.mtu.edu/~suits/notefreqs.html"
   ]
  },
  {
   "cell_type": "code",
   "execution_count": null,
   "metadata": {
    "collapsed": true,
    "scrolled": true
   },
   "outputs": [],
   "source": [
    "base_dir = '/Users/lauragwilliams/Documents/experiments/shepard/shepard/pretests/pitch'\n",
    "\n",
    "semitones = np.array([659, 624, 587, 554, 524, 494, 466, 440, 415, 392, 370, 349, 330, 311, 294, 277, 262, 247, 233, 220, 208])\n",
    "plus_minus = np.linspace(0, 10, 5)  # spacing between tones\n",
    "\n",
    "duration = 0.8\n",
    "amp = 5\n",
    "\n",
    "# loop through each semitone\n",
    "for ii in range(len(semitones)):\n",
    "    \n",
    "    # loop intil one minus the end\n",
    "    if ii != len(semitones)-1:\n",
    "        # pull out relevant tones\n",
    "        tone_0 = semitones[ii]\n",
    "        tone_1 = semitones[ii+1]\n",
    "\n",
    "        # get thirds differnce in freq between the tones\n",
    "        freq_diff = (tone_0 - tone_1)/4.\n",
    "\n",
    "        # make tone at this pitch\n",
    "        for jj in range(4):\n",
    "            adjustment = freq_diff*jj\n",
    "            this_tone = tone_0 - adjustment\n",
    "            adjusted_tone1 = complex_tone([this_tone], [duration], amp)\n",
    "\n",
    "            # save to disk\n",
    "            fname = '%s/%s-%s.wav' % (base_dir, np.round(this_tone, 2), jj)\n",
    "            write(fname, fs, adjusted_tone1[0:int(fs*tone_length)].astype(np.int16))\n",
    "    \n",
    "    else:\n",
    "            this_tone = semitones[-1]\n",
    "            adjusted_tone1 = complex_tone([this_tone], [duration], amp)\n",
    "\n",
    "            # save to disk\n",
    "            fname = '%s/%s-%s.wav' % (base_dir, np.round(this_tone, 2), 0)\n",
    "            write(fname, fs, adjusted_tone1[0:int(fs*tone_length)].astype(np.int16))  "
   ]
  },
  {
   "cell_type": "code",
   "execution_count": null,
   "metadata": {},
   "outputs": [],
   "source": [
    "plt.plot(tone[0:int(fs*tone_length)][0:100])"
   ]
  }
 ],
 "metadata": {
  "kernelspec": {
   "display_name": "Python 2",
   "language": "python",
   "name": "python2"
  },
  "language_info": {
   "codemirror_mode": {
    "name": "ipython",
    "version": 2
   },
   "file_extension": ".py",
   "mimetype": "text/x-python",
   "name": "python",
   "nbconvert_exporter": "python",
   "pygments_lexer": "ipython2",
   "version": "2.7.3"
  }
 },
 "nbformat": 4,
 "nbformat_minor": 2
}
