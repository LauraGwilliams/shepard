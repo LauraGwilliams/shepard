{
 "cells": [
  {
   "cell_type": "code",
   "execution_count": 2,
   "metadata": {},
   "outputs": [],
   "source": [
    "%matplotlib inline\n",
    "\n",
    "import pyaudio\n",
    "import numpy as np\n",
    "import matplotlib.pyplot as plt\n",
    "from matplotlib.pyplot import specgram\n",
    "\n",
    "def play_sound(x, amp=0.5):\n",
    "\n",
    "    p = pyaudio.PyAudio()\n",
    "    # for paFloat32 sample values must be in range [-1.0, 1.0]\n",
    "    stream = p.open(format=pyaudio.paFloat32,\n",
    "                    channels=1,\n",
    "                    rate=fs,\n",
    "                    output=True)\n",
    "\n",
    "    # play. May repeat with different volume values (if done interactively) \n",
    "    stream.write(amp*x)\n",
    "    stream.stop_stream()\n",
    "    stream.close()\n",
    "    p.terminate()\n",
    "    pass\n",
    "\n",
    "\n",
    "def find_nearest(array, value):\n",
    "    idx = (np.abs(array-value)).argmin()\n",
    "    return idx\n",
    "\n",
    "\n",
    "def make_sound(f, fs=44100, duration=1.0):\n",
    "    # generate samples, note conversion to float32 array\n",
    "    x = (np.sin(2*np.pi*np.arange(fs*duration)*f/fs)).astype(np.float32)\n",
    "    return x\n",
    "\n",
    "\n",
    "def make_AM_sound(f, amp_modulator, fs=44100, duration=1.0):\n",
    "    # generate samples, note conversion to float32 array\n",
    "    x = make_sound(f, fs, duration)\n",
    "    x = np.multiply(x, amp_modulator)\n",
    "    return x\n",
    "\n",
    "\n",
    "def make_FM_sound(f, freq_modulator, fs=44100, duration=1.0):\n",
    "    # generate samples, note conversion to float32 array\n",
    "    fs = float(fs)\n",
    "    x = (np.sin(2*np.pi*np.arange(fs*duration)*np.multiply(f/fs, freq_modulator))).astype(np.float32)\n",
    "    return x\n",
    "\n",
    "\n",
    "def complex_tone(freqs, amps, duration):\n",
    "   # make tone\n",
    "    tones = list()\n",
    "    for amp, f in zip(amps, freqs):\n",
    "        tones.append(make_sound(f, fs=fs, duration=duration)*amp)\n",
    "    tone = np.array(tones).sum(0)  # sum the frequencies together\n",
    "    return tone\n",
    "\n",
    "\n",
    "def power_to_db(power, conversion_val=10):\n",
    "    '''\n",
    "    This is the conversion from power -> dB, as taken from a stack exchange forum.\n",
    "    '''\n",
    "    return conversion_val*np.log10(power)\n",
    "\n",
    "\n",
    "def db_to_power(db, conversion_val=10):\n",
    "    '''\n",
    "    This is the conversion from dB -> power, as also taken from a stack exchange forum.\n",
    "    '''\n",
    "    return 10 ** (db/conversion_val)\n",
    "\n",
    "\n",
    "def get_fft_half(tone, fs):\n",
    "    power = np.abs(np.fft.fft(tone))\n",
    "    n = len(power)\n",
    "    freq = np.fft.fftfreq(n, 1/float(fs))\n",
    "\n",
    "    # just get first half of spectrum\n",
    "    half_n = int(np.ceil(n/2.0))\n",
    "#     power = (2.0 / n) * power[:half_n]\n",
    "    power = power[:half_n]\n",
    "    freq_half = freq[:half_n]\n",
    "    return power, freq_half\n",
    "\n",
    "\n",
    "def get_db(tone, fs):\n",
    "\n",
    "    N = 8192  # not sure where this comes from ... :/\n",
    "    win = np.hamming(N)                                                       \n",
    "    x = tone[0:N] * win                             # Take a slice and multiply by a window\n",
    "\n",
    "    sp = np.fft.rfft(x)                               # Calculate real FFT (this just means the first half)\n",
    "\n",
    "    mag = np.abs(sp) \n",
    "    ref = np.sum(win) / 2                             # Reference : window sum and factor of 2\n",
    "                                                      # because we are using half of FFT spectrum\n",
    "\n",
    "    s_dbfs = 20 * np.log10(mag / ref)                 # Convert to dBFS\n",
    "    \n",
    "    freq = np.fft.fftfreq(N, 1/float(fs))\n",
    "    half_n = int(np.ceil(N/2.0))  # not sure about N\n",
    "    freq_half = freq[:half_n+1]\n",
    "    \n",
    "    return s_dbfs, freq_half\n",
    "\n",
    "\n",
    "def plot_wave_and_fft(tone, fs, t_max, freq_max, power_max):\n",
    "    # plot waveform\n",
    "    f, axs = plt.subplots(1, 2, figsize=(15, 5))\n",
    "    axs[0].plot(tone)\n",
    "    axs[0].set_xlim([0, t_max])\n",
    "    axs[0].set_xlabel('Time (ms)')\n",
    "    axs[0].set_ylabel('Amplitude')\n",
    "\n",
    "    # get fft\n",
    "    power, freq_half = get_fft_half(tone, fs)\n",
    "\n",
    "    # plot fft\n",
    "    axs[1].plot(freq_half, power, lw=4, c='k')\n",
    "    axs[1].set_xlim([0, freq_max])\n",
    "    axs[1].set_ylim([0, power_max])\n",
    "    axs[1].set_xlabel('Frequency (Hz)')\n",
    "    axs[1].set_ylabel('Power')\n",
    "    return f\n",
    "\n",
    "\n",
    "def plot_wave_and_db(tone, fs, t_max, freq_max):\n",
    "    # plot waveform\n",
    "    f, axs = plt.subplots(1, 2, figsize=(15, 5))\n",
    "    axs[0].plot(tone)\n",
    "    axs[0].set_xlim([0, t_max])\n",
    "    axs[0].set_xlabel('Time (ms)')\n",
    "    axs[0].set_ylabel('Amplitude')\n",
    "\n",
    "    # get fft\n",
    "    db, freq_half = get_db(tone, fs)\n",
    "\n",
    "    # plot fft\n",
    "    axs[1].plot(freq_half, power_to_db(power), lw=4, c='k')\n",
    "    axs[1].set_xlim([0, freq_max])\n",
    "    axs[1].set_xlabel('Frequency (Hz)')\n",
    "    axs[1].set_ylabel('dB')\n",
    "    return f\n",
    "\n"
   ]
  },
  {
   "cell_type": "code",
   "execution_count": null,
   "metadata": {
    "collapsed": true
   },
   "outputs": [],
   "source": []
  },
  {
   "cell_type": "markdown",
   "metadata": {},
   "source": [
    "__Take a look at what the complex tone function generates__"
   ]
  },
  {
   "cell_type": "code",
   "execution_count": 47,
   "metadata": {},
   "outputs": [
    {
     "data": {
      "text/plain": [
       "[<matplotlib.lines.Line2D at 0x119518dd0>]"
      ]
     },
     "execution_count": 47,
     "metadata": {},
     "output_type": "execute_result"
    },
    {
     "data": {
      "image/png": "[encoded data removed]",
      "text/plain": [
       "<matplotlib.figure.Figure at 0x11943f890>"
      ]
     },
     "metadata": {},
     "output_type": "display_data"
    }
   ],
   "source": [
    "freqs = np.array([220, 450, 890, 780])\n",
    "amps = np.ones_like(freqs)\n",
    "duration = 0.02\n",
    "t = complex_tone(freqs, amps, duration)\n",
    "plt.plot(t, 'k', lw=4)"
   ]
  },
  {
   "cell_type": "markdown",
   "metadata": {},
   "source": [
    "__Now, let's make some Shepard tones!!__"
   ]
  },
  {
   "cell_type": "code",
   "execution_count": 4,
   "metadata": {},
   "outputs": [
    {
     "name": "stdout",
     "output_type": "stream",
     "text": [
      "587\n",
      "587\n",
      "/Users/ellieabrams/Desktop/Projects/Shepard/exp/tones_final/shepard-Eb_587_300ms.wav\n",
      "554\n",
      "554\n",
      "/Users/ellieabrams/Desktop/Projects/Shepard/exp/tones_final/shepard-Eb_554_300ms.wav\n",
      "523\n",
      "523\n",
      "/Users/ellieabrams/Desktop/Projects/Shepard/exp/tones_final/shepard-Eb_523_300ms.wav\n",
      "494\n",
      "494\n",
      "/Users/ellieabrams/Desktop/Projects/Shepard/exp/tones_final/shepard-Eb_494_300ms.wav\n",
      "466\n",
      "466\n",
      "/Users/ellieabrams/Desktop/Projects/Shepard/exp/tones_final/shepard-Eb_466_300ms.wav\n",
      "440\n",
      "440\n",
      "/Users/ellieabrams/Desktop/Projects/Shepard/exp/tones_final/shepard-Eb_440_300ms.wav\n",
      "415\n",
      "415\n",
      "/Users/ellieabrams/Desktop/Projects/Shepard/exp/tones_final/shepard-Eb_415_300ms.wav\n",
      "392\n",
      "392\n",
      "/Users/ellieabrams/Desktop/Projects/Shepard/exp/tones_final/shepard-Eb_392_300ms.wav\n",
      "370\n",
      "370\n",
      "/Users/ellieabrams/Desktop/Projects/Shepard/exp/tones_final/shepard-Eb_370_300ms.wav\n",
      "350\n",
      "350\n",
      "/Users/ellieabrams/Desktop/Projects/Shepard/exp/tones_final/shepard-Eb_350_300ms.wav\n",
      "330\n",
      "330\n",
      "/Users/ellieabrams/Desktop/Projects/Shepard/exp/tones_final/shepard-Eb_330_300ms.wav\n",
      "312\n",
      "312\n",
      "/Users/ellieabrams/Desktop/Projects/Shepard/exp/tones_final/shepard-Eb_312_300ms.wav\n"
     ]
    }
   ],
   "source": [
    "import time\n",
    "\n",
    "from scipy.io.wavfile import write\n",
    "base_dir = '/Users/ellieabrams/Desktop/Projects/Shepard/exp/tones_final'\n",
    "\n",
    "# params\n",
    "fs=44100  # sample freq\n",
    "duration=0.8\n",
    "scale_idx = [0, 2, 4, 6, 7, 9, 11]\n",
    "max_db = -0\n",
    "min_db = -38.5\n",
    "tone_length = 0.3  # desired length in seconds\n",
    "notes = ['Eb', 'A', 'C']\n",
    "conditions = ['shepard', 'pure', 'partial']\n",
    "\n",
    "# semitones for each scale\n",
    "#d_semitones = np.array([294, 277, 262, 247, 233, 220, 208, 196, 185, 175, 165, 156])\n",
    "eb_semitones = np.array([312, 330, 350, 370, 392, 415, 440, 466, 494, 523, 554, 587])[::-1]\n",
    "c_semitones = np.array([494, 466, 440, 415, 392, 370, 349, 330, 311, 294, 277, 262])\n",
    "a_semitones = np.array([415, 392, 370, 349, 330, 311, 294, 277, 262, 247, 233, 220])\n",
    "\n",
    "for note in notes:\n",
    "\n",
    "    for cond in conditions:\n",
    "\n",
    "        if note == 'Eb':\n",
    "            semitones = eb_semitones\n",
    "        elif note == 'C':\n",
    "            semitones = c_semitones\n",
    "        elif note == 'A':\n",
    "            semitones = a_semitones\n",
    "        \n",
    "        if cond == 'shepard':\n",
    "            n_partials = 6\n",
    "            linear_db = np.linspace(min_db, max_db, len(semitones))[::-1]\n",
    "            non_linear_amp = np.sqrt(db_to_power(linear_db))\n",
    "            partial_scaling = non_linear_amp\n",
    "            min_amp = np.min(partial_scaling)\n",
    "            max_amp = np.max(partial_scaling)\n",
    "\n",
    "        elif cond == 'pure':\n",
    "            n_partials = 1\n",
    "            semitones = np.array(semitones.tolist() + [semitones[-1]*2])\n",
    "            linear_db = np.ones_like(semitones)\n",
    "            non_linear_amp = np.sqrt(db_to_power(linear_db))\n",
    "            partial_scaling = non_linear_amp\n",
    "            min_amp = np.min(partial_scaling)\n",
    "            max_amp = np.max(partial_scaling)            \n",
    "\n",
    "        elif cond == 'partial':\n",
    "            n_partials = 6\n",
    "            semitones = np.array(semitones.tolist() + [semitones[-1]*2])\n",
    "            linear_db = np.ones_like(semitones)\n",
    "            non_linear_amp = np.sqrt(db_to_power(linear_db))\n",
    "            partial_scaling = non_linear_amp\n",
    "            min_amp = np.min(partial_scaling)\n",
    "            max_amp = np.max(partial_scaling)       \n",
    "            \n",
    "        # bin for tones\n",
    "        tones = list()\n",
    "\n",
    "        # loop through each note of the a scale\n",
    "        for ii, f0 in enumerate(semitones):\n",
    "            print f0\n",
    "            # start the timer\n",
    "            t0 = time.time()\n",
    "\n",
    "            # get the freqs\n",
    "            freqs = [f0*p for p in range(1, n_partials+1)]\n",
    "            if cond == 'partial':  # remove f0 for partial\n",
    "                freqs = freqs[1:]\n",
    "            print f0\n",
    "            # scale the odd partials by scalar\n",
    "            attenuation_1_3 = partial_scaling[ii]  # this is the intermediary value (neither min nor max -- somewhere on the linear line)\n",
    "            attenuation_6 = partial_scaling[::-1][ii]  # this is the intermediary value for the last partial\n",
    "\n",
    "            amps = list()\n",
    "            for jj in range(1, n_partials+1):  # loop through partial numbers (1 - 6, not 0-5)\n",
    "\n",
    "                # if it is partial 5 -- stay at the min\n",
    "                if jj == 5:\n",
    "                    amps.append(min_amp)  # stays low constantly\n",
    "\n",
    "                # if it is partial 6 -- give attenuation up\n",
    "                elif jj == 6:\n",
    "                    amps.append(attenuation_6) # scales in the opposite direction of 1&3     \n",
    "\n",
    "                # if it is partial 2 or 4 -- keep at max\n",
    "                elif jj == 2 or jj == 4:\n",
    "                    amps.append(max_amp)  # if it's even, do not mess with the amp (it stays the same throughout)\n",
    "\n",
    "               # if it is partial 1 or 3 -- give attenuation down\n",
    "                elif jj == 1 or jj == 3:\n",
    "                    amps.append(attenuation_1_3)  # if it's odd, attenuate.\n",
    "\n",
    "                else:\n",
    "                    raise ValueError('You screwed up somewhere.')\n",
    "\n",
    "            # make tone\n",
    "            tone = complex_tone(freqs, amps, duration)\n",
    "            tones.append(tone)\n",
    "\n",
    "#             if ii in scale_idx:\n",
    "#                 # listen        \n",
    "#                 play_sound(tone)\n",
    "\n",
    "#                 dbs, freq_half = get_db(tone, fs)\n",
    "#                 plt.plot(freq_half, dbs)\n",
    "#                 for lin_db in linear_db[scale_idx]:\n",
    "#                     plt.axhline(lin_db, c='r')\n",
    "#                 plt.xlim([0, 3000])\n",
    "#                 plt.ylim([-50, 0])\n",
    "#                 plt.title(f0)\n",
    "#                 plt.show()\n",
    "\n",
    "            fname = '%s/%s-%s_%s.wav' % (base_dir, cond, note, f0)\n",
    "            write(fname, fs, tone[0:int(fs*tone_length)])\n",
    "            print(fname)"
   ]
  },
  {
   "cell_type": "code",
   "execution_count": null,
   "metadata": {
    "collapsed": true
   },
   "outputs": [],
   "source": []
  },
  {
   "cell_type": "code",
   "execution_count": null,
   "metadata": {
    "collapsed": true
   },
   "outputs": [],
   "source": []
  },
  {
   "cell_type": "code",
   "execution_count": null,
   "metadata": {
    "collapsed": true
   },
   "outputs": [],
   "source": []
  },
  {
   "cell_type": "code",
   "execution_count": null,
   "metadata": {
    "collapsed": true
   },
   "outputs": [],
   "source": []
  },
  {
   "cell_type": "code",
   "execution_count": null,
   "metadata": {
    "collapsed": true
   },
   "outputs": [],
   "source": []
  },
  {
   "cell_type": "code",
   "execution_count": null,
   "metadata": {
    "collapsed": true
   },
   "outputs": [],
   "source": []
  },
  {
   "cell_type": "code",
   "execution_count": null,
   "metadata": {
    "collapsed": true
   },
   "outputs": [],
   "source": []
  },
  {
   "cell_type": "code",
   "execution_count": null,
   "metadata": {
    "collapsed": true
   },
   "outputs": [],
   "source": []
  },
  {
   "cell_type": "code",
   "execution_count": null,
   "metadata": {
    "collapsed": true
   },
   "outputs": [],
   "source": []
  },
  {
   "cell_type": "code",
   "execution_count": null,
   "metadata": {
    "collapsed": true
   },
   "outputs": [],
   "source": []
  },
  {
   "cell_type": "code",
   "execution_count": 22,
   "metadata": {},
   "outputs": [
    {
     "name": "stdout",
     "output_type": "stream",
     "text": [
      "[ 587  554  523  494  466  440  415  392  370  350  330  312  624 1248]\n"
     ]
    }
   ],
   "source": [
    "print semitones"
   ]
  },
  {
   "cell_type": "code",
   "execution_count": null,
   "metadata": {
    "collapsed": true
   },
   "outputs": [],
   "source": []
  },
  {
   "cell_type": "code",
   "execution_count": 20,
   "metadata": {},
   "outputs": [
    {
     "name": "stdout",
     "output_type": "stream",
     "text": [
      "[587 554 523 494 466 440 415 392 370 350 330 312]\n"
     ]
    }
   ],
   "source": [
    "print d_semitones\n"
   ]
  },
  {
   "cell_type": "code",
   "execution_count": null,
   "metadata": {
    "collapsed": true
   },
   "outputs": [],
   "source": []
  },
  {
   "cell_type": "code",
   "execution_count": null,
   "metadata": {
    "collapsed": true
   },
   "outputs": [],
   "source": []
  },
  {
   "cell_type": "code",
   "execution_count": null,
   "metadata": {
    "collapsed": true
   },
   "outputs": [],
   "source": []
  },
  {
   "cell_type": "code",
   "execution_count": null,
   "metadata": {
    "collapsed": true
   },
   "outputs": [],
   "source": []
  },
  {
   "cell_type": "code",
   "execution_count": null,
   "metadata": {
    "collapsed": true
   },
   "outputs": [],
   "source": []
  },
  {
   "cell_type": "code",
   "execution_count": null,
   "metadata": {
    "collapsed": true
   },
   "outputs": [],
   "source": []
  },
  {
   "cell_type": "code",
   "execution_count": null,
   "metadata": {
    "collapsed": true
   },
   "outputs": [],
   "source": []
  },
  {
   "cell_type": "code",
   "execution_count": null,
   "metadata": {
    "collapsed": true
   },
   "outputs": [],
   "source": []
  },
  {
   "cell_type": "code",
   "execution_count": null,
   "metadata": {
    "collapsed": true
   },
   "outputs": [],
   "source": []
  },
  {
   "cell_type": "code",
   "execution_count": null,
   "metadata": {
    "collapsed": true
   },
   "outputs": [],
   "source": []
  },
  {
   "cell_type": "code",
   "execution_count": null,
   "metadata": {
    "collapsed": true
   },
   "outputs": [],
   "source": []
  },
  {
   "cell_type": "code",
   "execution_count": null,
   "metadata": {
    "collapsed": true
   },
   "outputs": [],
   "source": []
  },
  {
   "cell_type": "code",
   "execution_count": null,
   "metadata": {
    "collapsed": true
   },
   "outputs": [],
   "source": []
  },
  {
   "cell_type": "code",
   "execution_count": null,
   "metadata": {
    "collapsed": true
   },
   "outputs": [],
   "source": []
  },
  {
   "cell_type": "code",
   "execution_count": 23,
   "metadata": {},
   "outputs": [
    {
     "name": "stdout",
     "output_type": "stream",
     "text": [
      "we should have 114 files total.\n"
     ]
    }
   ],
   "source": [
    "expected_trial_n = (12 * 3) + (13 * 3) + (13 * 3)\n",
    "print('we should have %s files total.' % (expected_trial_n))"
   ]
  }
 ],
 "metadata": {
  "kernelspec": {
   "display_name": "Python 2",
   "language": "python",
   "name": "python2"
  },
  "language_info": {
   "codemirror_mode": {
    "name": "ipython",
    "version": 2
   },
   "file_extension": ".py",
   "mimetype": "text/x-python",
   "name": "python",
   "nbconvert_exporter": "python",
   "pygments_lexer": "ipython2",
   "version": "2.7.15"
  }
 },
 "nbformat": 4,
 "nbformat_minor": 2
}
