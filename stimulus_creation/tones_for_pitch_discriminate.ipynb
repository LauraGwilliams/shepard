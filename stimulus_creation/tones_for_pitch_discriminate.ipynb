{
 "cells": [
  {
   "cell_type": "code",
   "execution_count": 280,
   "metadata": {
    "collapsed": true
   },
   "outputs": [],
   "source": [
    "%matplotlib inline\n",
    "\n",
    "import pyaudio\n",
    "import numpy as np\n",
    "import matplotlib.pyplot as plt\n",
    "from matplotlib.pyplot import specgram\n",
    "\n",
    "def play_sound(x, amp=0.5):\n",
    "\n",
    "    p = pyaudio.PyAudio()\n",
    "    # for paFloat32 sample values must be in range [-1.0, 1.0]\n",
    "    stream = p.open(format=pyaudio.paFloat32,\n",
    "                    channels=1,\n",
    "                    rate=fs,\n",
    "                    output=True)\n",
    "\n",
    "    # play. May repeat with different volume values (if done interactively) \n",
    "    stream.write(amp*x)\n",
    "    stream.stop_stream()\n",
    "    stream.close()\n",
    "    p.terminate()\n",
    "    pass\n",
    "\n",
    "\n",
    "def find_nearest(array, value):\n",
    "    idx = (np.abs(array-value)).argmin()\n",
    "    return idx\n",
    "\n",
    "\n",
    "def make_sound(f, fs=44100, duration=1.0):\n",
    "    # generate samples, note conversion to float32 array\n",
    "    x = (np.sin(2*np.pi*np.arange(fs*duration)*f/fs)).astype(np.float32)\n",
    "    return x\n",
    "\n",
    "\n",
    "def make_AM_sound(f, amp_modulator, fs=44100, duration=1.0):\n",
    "    # generate samples, note conversion to float32 array\n",
    "    x = make_sound(f, fs, duration)\n",
    "    x = np.multiply(x, amp_modulator)\n",
    "    return x\n",
    "\n",
    "\n",
    "def make_FM_sound(f, freq_modulator, fs=44100, duration=1.0):\n",
    "    # generate samples, note conversion to float32 array\n",
    "    fs = float(fs)\n",
    "    x = (np.sin(2*np.pi*np.arange(fs*duration)*np.multiply(f/fs, freq_modulator))).astype(np.float32)\n",
    "    return x\n",
    "\n",
    "\n",
    "def complex_tone(freqs, amps, duration):\n",
    "   # make tone\n",
    "    tones = list()\n",
    "    for amp, f in zip(amps, freqs):\n",
    "        tones.append(make_sound(f, fs=fs, duration=duration)*amp)\n",
    "    tone = np.array(tones).sum(0)  # sum the frequencies together\n",
    "    return tone\n",
    "\n",
    "\n",
    "def power_to_db(power, conversion_val=10):\n",
    "    '''\n",
    "    This is the conversion from power -> dB, as taken from a stack exchange forum.\n",
    "    '''\n",
    "    return conversion_val*np.log10(power)\n",
    "\n",
    "\n",
    "def db_to_power(db, conversion_val=10):\n",
    "    '''\n",
    "    This is the conversion from dB -> power, as also taken from a stack exchange forum.\n",
    "    '''\n",
    "    return 10 ** (db/conversion_val)\n",
    "\n",
    "\n",
    "def get_fft_half(tone, fs):\n",
    "    power = np.abs(np.fft.fft(tone))\n",
    "    n = len(power)\n",
    "    freq = np.fft.fftfreq(n, 1/float(fs))\n",
    "\n",
    "    # just get first half of spectrum\n",
    "    half_n = int(np.ceil(n/2.0))\n",
    "#     power = (2.0 / n) * power[:half_n]\n",
    "    power = power[:half_n]\n",
    "    freq_half = freq[:half_n]\n",
    "    return power, freq_half\n",
    "\n",
    "\n",
    "def get_db(tone, fs):\n",
    "\n",
    "    N = 8192  # not sure where this comes from ... :/\n",
    "    win = np.hamming(N)                                                       \n",
    "    x = tone[0:N] * win                             # Take a slice and multiply by a window\n",
    "\n",
    "    sp = np.fft.rfft(x)                               # Calculate real FFT (this just means the first half)\n",
    "\n",
    "    mag = np.abs(sp) \n",
    "    ref = np.sum(win) / 2                             # Reference : window sum and factor of 2\n",
    "                                                      # because we are using half of FFT spectrum\n",
    "\n",
    "    s_dbfs = 20 * np.log10(mag / ref)                 # Convert to dBFS\n",
    "    \n",
    "    freq = np.fft.fftfreq(N, 1/float(fs))\n",
    "    half_n = int(np.ceil(N/2.0))  # not sure about N\n",
    "    freq_half = freq[:half_n+1]\n",
    "    \n",
    "    return s_dbfs, freq_half\n",
    "\n",
    "\n",
    "def plot_wave_and_fft(tone, fs, t_max, freq_max, power_max):\n",
    "    # plot waveform\n",
    "    f, axs = plt.subplots(1, 2, figsize=(15, 5))\n",
    "    axs[0].plot(tone)\n",
    "    axs[0].set_xlim([0, t_max])\n",
    "    axs[0].set_xlabel('Time (ms)')\n",
    "    axs[0].set_ylabel('Amplitude')\n",
    "\n",
    "    # get fft\n",
    "    power, freq_half = get_fft_half(tone, fs)\n",
    "\n",
    "    # plot fft\n",
    "    axs[1].plot(freq_half, power, lw=4, c='k')\n",
    "    axs[1].set_xlim([0, freq_max])\n",
    "    axs[1].set_ylim([0, power_max])\n",
    "    axs[1].set_xlabel('Frequency (Hz)')\n",
    "    axs[1].set_ylabel('Power')\n",
    "    return f\n",
    "\n",
    "\n",
    "def plot_wave_and_db(tone, fs, t_max, freq_max):\n",
    "    # plot waveform\n",
    "    f, axs = plt.subplots(1, 2, figsize=(15, 5))\n",
    "    axs[0].plot(tone)\n",
    "    axs[0].set_xlim([0, t_max])\n",
    "    axs[0].set_xlabel('Time (ms)')\n",
    "    axs[0].set_ylabel('Amplitude')\n",
    "\n",
    "    # get fft\n",
    "    db, freq_half = get_db(tone, fs)\n",
    "\n",
    "    # plot fft\n",
    "    axs[1].plot(freq_half, power_to_db(power), lw=4, c='k')\n",
    "    axs[1].set_xlim([0, freq_max])\n",
    "    axs[1].set_xlabel('Frequency (Hz)')\n",
    "    axs[1].set_ylabel('dB')\n",
    "    return f\n",
    "\n",
    "\n",
    "def expspace(start, stop, num, density='natural'):\n",
    "    lin = np.linspace(np.sqrt(start), np.sqrt(stop), num)\n",
    "    if density == 'natural':\n",
    "        return lin**2\n",
    "    elif density == 'flip':\n",
    "        shift = stop+start\n",
    "        return (shift-(lin**2))[::-1]"
   ]
  },
  {
   "cell_type": "code",
   "execution_count": 266,
   "metadata": {},
   "outputs": [
    {
     "data": {
      "text/plain": [
       "array([  0.        ,   1.2345679 ,   4.9382716 ,  11.11111111,\n",
       "        19.75308642,  30.86419753,  44.44444444,  60.49382716,\n",
       "        79.01234568, 100.        ])"
      ]
     },
     "execution_count": 266,
     "metadata": {},
     "output_type": "execute_result"
    }
   ],
   "source": [
    "np.linspace(np.sqrt(start), np.sqrt(stop), num)**2"
   ]
  },
  {
   "cell_type": "code",
   "execution_count": 281,
   "metadata": {},
   "outputs": [
    {
     "data": {
      "text/plain": [
       "array([  200.        ,   561.98347107,   920.66115702,  1276.03305785,\n",
       "        1628.09917355,  1976.85950413,  2322.31404959,  2664.46280992,\n",
       "        3003.30578512,  3338.84297521,  3671.07438017,  4000.        ,\n",
       "        4325.61983471,  4647.9338843 ,  4966.94214876,  5282.6446281 ,\n",
       "        5595.04132231,  5904.1322314 ,  6209.91735537,  6512.39669421,\n",
       "        6811.57024793,  7107.43801653,  7400.        ,  7689.25619835,\n",
       "        7975.20661157,  8257.85123967,  8537.19008264,  8813.2231405 ,\n",
       "        9085.95041322,  9355.37190083,  9621.48760331,  9884.29752066,\n",
       "       10143.80165289, 10400.        , 10652.89256198, 10902.47933884,\n",
       "       11148.76033058, 11391.73553719, 11631.40495868, 11867.76859504,\n",
       "       12100.82644628, 12330.5785124 , 12557.02479339, 12780.16528926,\n",
       "       13000.        , 13216.52892562, 13429.75206612, 13639.66942149,\n",
       "       13846.28099174, 14049.58677686, 14249.58677686, 14446.28099174,\n",
       "       14639.66942149, 14829.75206612, 15016.52892562, 15200.        ,\n",
       "       15380.16528926, 15557.02479339, 15730.5785124 , 15900.82644628,\n",
       "       16067.76859504, 16231.40495868, 16391.73553719, 16548.76033058,\n",
       "       16702.47933884, 16852.89256198, 17000.        , 17143.80165289,\n",
       "       17284.29752066, 17421.48760331, 17555.37190083, 17685.95041322,\n",
       "       17813.2231405 , 17937.19008264, 18057.85123967, 18175.20661157,\n",
       "       18289.25619835, 18400.        , 18507.43801653, 18611.57024793,\n",
       "       18712.39669421, 18809.91735537, 18904.1322314 , 18995.04132231,\n",
       "       19082.6446281 , 19166.94214876, 19247.9338843 , 19325.61983471,\n",
       "       19400.        , 19471.07438017, 19538.84297521, 19603.30578512,\n",
       "       19664.46280992, 19722.31404959, 19776.85950413, 19828.09917355,\n",
       "       19876.03305785, 19920.66115702, 19961.98347107, 20000.        ])"
      ]
     },
     "execution_count": 281,
     "metadata": {},
     "output_type": "execute_result"
    },
    {
     "data": {
      "image/png": "[encoded data removed]",
      "text/plain": [
       "<Figure size 432x288 with 1 Axes>"
      ]
     },
     "metadata": {},
     "output_type": "display_data"
    }
   ],
   "source": [
    "# demo the non-linear sampling of frequencies\n",
    "plt.plot(expspace(200, 20000, 100, 'flip'), label='what we are using', lw=4)\n",
    "plt.plot(expspace(200, 20000, 100, 'natural'), label='natural log', lw=4)\n",
    "plt.legend()\n",
    "\n",
    "expspace(200, 20000, 100, 'flip')"
   ]
  },
  {
   "cell_type": "markdown",
   "metadata": {},
   "source": [
    "# (1) amplitude task\n",
    "\n",
    "### for this, we use b-weighting to adjust the perceptual volume across frequencies\n",
    "### the task will be for people to say whether or not a tone was present, so we can map their auditory acuity\n",
    "### we will test 10 frequencies (200-20,000Hz), 5 amplitudes, with 4 repetitions"
   ]
  },
  {
   "cell_type": "code",
   "execution_count": 255,
   "metadata": {},
   "outputs": [
    {
     "data": {
      "image/png": "[encoded data removed]",
      "text/plain": [
       "<Figure size 432x288 with 1 Axes>"
      ]
     },
     "metadata": {},
     "output_type": "display_data"
    }
   ],
   "source": [
    "# which method of correcting for perceptual amplitude?\n",
    "freqs = expspace(200, 20000, 18001, 'flip')\n",
    "\n",
    "base_amp = pydsm.audio_weightings.a_weighting(freqs)\n",
    "plt.plot(freqs, (1-base_amp)+1, label='a')\n",
    "base_amp = pydsm.audio_weightings.b_weighting(freqs)\n",
    "plt.plot(freqs, (1-base_amp)+1, label='b')\n",
    "base_amp = pydsm.audio_weightings.c_weighting(freqs)\n",
    "plt.plot(freqs, (1-base_amp)+1, label='c')\n",
    "base_amp = pydsm.audio_weightings.a_weighting(freqs)\n",
    "plt.plot(freqs, (1-base_amp)+1, label='d')\n",
    "plt.legend()\n",
    "plt.show()"
   ]
  },
  {
   "cell_type": "code",
   "execution_count": 257,
   "metadata": {},
   "outputs": [
    {
     "name": "stdout",
     "output_type": "stream",
     "text": [
      "(3.637978807091713e-12, 0.0)\n",
      "(3.637978807091713e-12, 0.5)\n",
      "(3.637978807091713e-12, 1.0)\n",
      "(3.637978807091713e-12, 1.5)\n",
      "(3.637978807091713e-12, 2.0)\n",
      "(3400.5201785479458, 0.0)\n",
      "(3400.5201785479458, 0.2766749416902672)\n",
      "(3400.5201785479458, 0.5533498833805344)\n",
      "(3400.5201785479458, 0.8300248250708016)\n",
      "(3400.5201785479458, 1.1066997667610687)\n",
      "(6445.354756903349, 0.0)\n",
      "(6445.354756903349, 0.3412134219224837)\n",
      "(6445.354756903349, 0.6824268438449674)\n",
      "(6445.354756903349, 1.023640265767451)\n",
      "(6445.354756903349, 1.3648536876899349)\n",
      "(9134.50373506621, 0.0)\n",
      "(9134.50373506621, 0.3932951724384862)\n",
      "(9134.50373506621, 0.7865903448769724)\n",
      "(9134.50373506621, 1.1798855173154585)\n",
      "(9134.50373506621, 1.5731806897539449)\n",
      "(11467.967113036531, 0.0)\n",
      "(11467.967113036531, 0.42674460588687135)\n",
      "(11467.967113036531, 0.8534892117737427)\n",
      "(11467.967113036531, 1.280233817660614)\n",
      "(11467.967113036531, 1.7069784235474854)\n",
      "(13445.744890814309, 0.0)\n",
      "(13445.744890814309, 0.44700572050005566)\n",
      "(13445.744890814309, 0.8940114410001113)\n",
      "(13445.744890814309, 1.341017161500167)\n",
      "(13445.744890814309, 1.7880228820002226)\n",
      "(15067.837068399544, 0.0)\n",
      "(15067.837068399544, 0.4592439335065225)\n",
      "(15067.837068399544, 0.918487867013045)\n",
      "(15067.837068399544, 1.3777318005195673)\n",
      "(15067.837068399544, 1.83697573402609)\n",
      "(16334.243645792238, 0.0)\n",
      "(16334.243645792238, 0.46666909823756125)\n",
      "(16334.243645792238, 0.9333381964751225)\n",
      "(16334.243645792238, 1.4000072947126838)\n",
      "(16334.243645792238, 1.866676392950245)\n",
      "(17244.96462299239, 0.0)\n",
      "(17244.96462299239, 0.4710807793117821)\n",
      "(17244.96462299239, 0.9421615586235642)\n",
      "(17244.96462299239, 1.4132423379353463)\n",
      "(17244.96462299239, 1.8843231172471284)\n",
      "(17800.0, 0.0)\n",
      "(17800.0, 0.4734460615813998)\n",
      "(17800.0, 0.9468921231627996)\n",
      "(17800.0, 1.4203381847441994)\n",
      "(17800.0, 1.8937842463255992)\n"
     ]
    }
   ],
   "source": [
    "import time\n",
    "import pydsm  # for the adjustment between perceived amplitude and frequency\n",
    "from scipy.io.wavfile import write\n",
    "\n",
    "base_dir = '/Users/ellieabrams/Desktop/Projects/Shepard/exp/tones_final'\n",
    "base_dir = '/Users/lauragwilliams/Documents/experiments/shepard/shepard/tones_pitchtask'\n",
    "\n",
    "# params\n",
    "fs=44100  # sample freq\n",
    "duration=0.8\n",
    "tone_length = 0.3  # desired length in seconds\n",
    "\n",
    "# test this freq range\n",
    "min_freq = 200\n",
    "max_freq = 20000\n",
    "n_freqs = ((max_freq - min_freq)*2)+1\n",
    "n_freqs = 10\n",
    "# freqs = np.linspace(min_freq, max_freq, n_freqs)\n",
    "freqs = expspace(min_freq, max_freq, n_freqs, 'flip')\n",
    "\n",
    "# we should test different amplitudes depending on the freq. we weight\n",
    "# the amplitude based on standard \n",
    "base_amp = pydsm.audio_weightings.b_weighting(freqs)\n",
    "amp_corrections = (1-base_amp)+1\n",
    "\n",
    "# test this amp range\n",
    "min_amp = 0\n",
    "max_amp = 1\n",
    "n_amps = 5\n",
    "\n",
    "# make tones, looping through each paramtere\n",
    "for amp_cor, freq in zip(amp_corrections, freqs):\n",
    "    for amps in np.linspace(min_amp, max_amp, n_amps):\n",
    "\n",
    "        # make tone\n",
    "        tone = complex_tone([freq], [amps*amp_cor], duration)\n",
    "        play_sound(tone[100:int(fs*tone_length)+100])\n",
    "        print(freq, amps*amp_cor)\n",
    "\n",
    "#         fname = '%s/%s-%s.wav' % (base_dir, freq, np.round(amps, 3))\n",
    "#         write(fname, fs, tone[0:int(fs*tone_length)])\n",
    "#         print(fname)"
   ]
  },
  {
   "cell_type": "code",
   "execution_count": 248,
   "metadata": {},
   "outputs": [
    {
     "data": {
      "text/plain": [
       "[<matplotlib.lines.Line2D at 0x1133f93d0>]"
      ]
     },
     "execution_count": 248,
     "metadata": {},
     "output_type": "execute_result"
    },
    {
     "data": {
      "image/png": "[encoded data removed]",
      "text/plain": [
       "<Figure size 432x288 with 1 Axes>"
      ]
     },
     "metadata": {},
     "output_type": "display_data"
    }
   ],
   "source": [
    "plt.plot(freqs)"
   ]
  },
  {
   "cell_type": "code",
   "execution_count": 175,
   "metadata": {},
   "outputs": [
    {
     "name": "stdout",
     "output_type": "stream",
     "text": [
      "(624, 0.0, 624.0, 624.0)\n",
      "(624, 2.5, 626.5, 621.5)\n",
      "(624, 5.0, 629.0, 619.0)\n",
      "(624, 7.5, 631.5, 616.5)\n",
      "(624, 10.0, 634.0, 614.0)\n",
      "(587, 0.0, 587.0, 587.0)\n",
      "(587, 2.5, 589.5, 584.5)\n",
      "(587, 5.0, 592.0, 582.0)\n",
      "(587, 7.5, 594.5, 579.5)\n",
      "(587, 10.0, 597.0, 577.0)\n",
      "(544, 0.0, 544.0, 544.0)\n",
      "(544, 2.5, 546.5, 541.5)\n",
      "(544, 5.0, 549.0, 539.0)\n"
     ]
    },
    {
     "ename": "KeyboardInterrupt",
     "evalue": "",
     "output_type": "error",
     "traceback": [
      "\u001b[0;31m---------------------------------------------------------------------------\u001b[0m",
      "\u001b[0;31mKeyboardInterrupt\u001b[0m                         Traceback (most recent call last)",
      "\u001b[0;32m<ipython-input-175-53c5d30a168b>\u001b[0m in \u001b[0;36m<module>\u001b[0;34m()\u001b[0m\n\u001b[1;32m     13\u001b[0m         \u001b[0mplay_sound\u001b[0m\u001b[0;34m(\u001b[0m\u001b[0madjusted_tone1\u001b[0m\u001b[0;34m)\u001b[0m\u001b[0;34m\u001b[0m\u001b[0m\n\u001b[1;32m     14\u001b[0m         \u001b[0madjusted_tone2\u001b[0m \u001b[0;34m=\u001b[0m \u001b[0mcomplex_tone\u001b[0m\u001b[0;34m(\u001b[0m\u001b[0;34m[\u001b[0m\u001b[0mfreq_down\u001b[0m\u001b[0;34m]\u001b[0m\u001b[0;34m,\u001b[0m \u001b[0;34m[\u001b[0m\u001b[0;36m10\u001b[0m\u001b[0;34m]\u001b[0m\u001b[0;34m,\u001b[0m \u001b[0;36m0.8\u001b[0m\u001b[0;34m)\u001b[0m\u001b[0;34m\u001b[0m\u001b[0m\n\u001b[0;32m---> 15\u001b[0;31m         \u001b[0mplay_sound\u001b[0m\u001b[0;34m(\u001b[0m\u001b[0madjusted_tone2\u001b[0m\u001b[0;34m)\u001b[0m\u001b[0;34m\u001b[0m\u001b[0m\n\u001b[0m",
      "\u001b[0;32m<ipython-input-166-6a58479006b3>\u001b[0m in \u001b[0;36mplay_sound\u001b[0;34m(x, amp)\u001b[0m\n\u001b[1;32m     18\u001b[0m     \u001b[0mstream\u001b[0m\u001b[0;34m.\u001b[0m\u001b[0mwrite\u001b[0m\u001b[0;34m(\u001b[0m\u001b[0mamp\u001b[0m\u001b[0;34m*\u001b[0m\u001b[0mx\u001b[0m\u001b[0;34m)\u001b[0m\u001b[0;34m\u001b[0m\u001b[0m\n\u001b[1;32m     19\u001b[0m     \u001b[0mstream\u001b[0m\u001b[0;34m.\u001b[0m\u001b[0mstop_stream\u001b[0m\u001b[0;34m(\u001b[0m\u001b[0;34m)\u001b[0m\u001b[0;34m\u001b[0m\u001b[0m\n\u001b[0;32m---> 20\u001b[0;31m     \u001b[0mstream\u001b[0m\u001b[0;34m.\u001b[0m\u001b[0mclose\u001b[0m\u001b[0;34m(\u001b[0m\u001b[0;34m)\u001b[0m\u001b[0;34m\u001b[0m\u001b[0m\n\u001b[0m\u001b[1;32m     21\u001b[0m     \u001b[0mp\u001b[0m\u001b[0;34m.\u001b[0m\u001b[0mterminate\u001b[0m\u001b[0;34m(\u001b[0m\u001b[0;34m)\u001b[0m\u001b[0;34m\u001b[0m\u001b[0m\n\u001b[1;32m     22\u001b[0m     \u001b[0;32mpass\u001b[0m\u001b[0;34m\u001b[0m\u001b[0m\n",
      "\u001b[0;32m/anaconda/lib/python2.7/site-packages/pyaudio.pyc\u001b[0m in \u001b[0;36mclose\u001b[0;34m(self)\u001b[0m\n\u001b[1;32m    451\u001b[0m         \u001b[0;34m\"\"\" Close the stream \"\"\"\u001b[0m\u001b[0;34m\u001b[0m\u001b[0m\n\u001b[1;32m    452\u001b[0m \u001b[0;34m\u001b[0m\u001b[0m\n\u001b[0;32m--> 453\u001b[0;31m         \u001b[0mpa\u001b[0m\u001b[0;34m.\u001b[0m\u001b[0mclose\u001b[0m\u001b[0;34m(\u001b[0m\u001b[0mself\u001b[0m\u001b[0;34m.\u001b[0m\u001b[0m_stream\u001b[0m\u001b[0;34m)\u001b[0m\u001b[0;34m\u001b[0m\u001b[0m\n\u001b[0m\u001b[1;32m    454\u001b[0m \u001b[0;34m\u001b[0m\u001b[0m\n\u001b[1;32m    455\u001b[0m         \u001b[0mself\u001b[0m\u001b[0;34m.\u001b[0m\u001b[0m_is_running\u001b[0m \u001b[0;34m=\u001b[0m \u001b[0mFalse\u001b[0m\u001b[0;34m\u001b[0m\u001b[0m\n",
      "\u001b[0;31mKeyboardInterrupt\u001b[0m: "
     ]
    }
   ],
   "source": [
    "semitones = np.array([624, 587, 544, 524, 494, 466, 440, 415, 392, 370, 349, 330, 311, 294, 277, 262, 247, 233, 220])\n",
    "plus_minus = np.linspace(0, 10, 5)\n",
    "\n",
    "for tone in semitones:\n",
    "    for adjust in plus_minus:\n",
    "                \n",
    "        freq_up = tone+adjust\n",
    "        freq_down = tone-adjust\n",
    "        \n",
    "        print(tone, adjust, freq_up, freq_down)\n",
    "        \n",
    "        adjusted_tone1 = complex_tone([tone], [10], 0.8)\n",
    "        play_sound(adjusted_tone1)    \n",
    "        adjusted_tone2 = complex_tone([freq_down], [10], 0.8)\n",
    "        play_sound(adjusted_tone2)    \n"
   ]
  },
  {
   "cell_type": "code",
   "execution_count": 190,
   "metadata": {
    "scrolled": true
   },
   "outputs": [
    {
     "name": "stdout",
     "output_type": "stream",
     "text": [
      "[624.0]\n",
      "[614.75]\n",
      "[605.5]\n",
      "[596.25]\n",
      "[587.0]\n",
      "[578.75]\n",
      "[570.5]\n",
      "[562.25]\n",
      "[554.0]\n",
      "[546.5]\n",
      "[539.0]\n",
      "[531.5]\n",
      "[524.0]\n",
      "[516.5]\n",
      "[509.0]\n",
      "[501.5]\n",
      "[494.0]\n",
      "[487.0]\n",
      "[480.0]\n",
      "[473.0]\n",
      "[466.0]\n",
      "[459.5]\n",
      "[453.0]\n",
      "[446.5]\n",
      "[440.0]\n",
      "[433.75]\n",
      "[427.5]\n",
      "[421.25]\n",
      "[415.0]\n",
      "[409.25]\n",
      "[403.5]\n",
      "[397.75]\n",
      "[392.0]\n",
      "[386.5]\n",
      "[381.0]\n",
      "[375.5]\n",
      "[370.0]\n",
      "[364.75]\n",
      "[359.5]\n",
      "[354.25]\n",
      "[349.0]\n",
      "[344.25]\n",
      "[339.5]\n",
      "[334.75]\n",
      "[330.0]\n",
      "[325.25]\n",
      "[320.5]\n",
      "[315.75]\n",
      "[311.0]\n",
      "[306.75]\n",
      "[302.5]\n",
      "[298.25]\n",
      "[294.0]\n",
      "[289.75]\n",
      "[285.5]\n",
      "[281.25]\n",
      "[277.0]\n",
      "[273.25]\n",
      "[269.5]\n",
      "[265.75]\n",
      "[262.0]\n",
      "[258.25]\n",
      "[254.5]\n",
      "[250.75]\n",
      "[247.0]\n",
      "[243.5]\n",
      "[240.0]\n",
      "[236.5]\n",
      "[233.0]\n",
      "[229.75]\n",
      "[226.5]\n",
      "[223.25]\n"
     ]
    }
   ],
   "source": [
    "semitones = np.array([624, 587, 554, 524, 494, 466, 440, 415, 392, 370, 349, 330, 311, 294, 277, 262, 247, 233, 220])\n",
    "plus_minus = np.linspace(0, 10, 5)\n",
    "\n",
    "for ii in range(len(semitones)):\n",
    "    \n",
    "    # loop intil one minus the end\n",
    "    if ii == len(semitones)-1:\n",
    "        continue\n",
    "    # pull out relevant tones\n",
    "    tone_0 = semitones[ii]\n",
    "    tone_1 = semitones[ii+1]\n",
    "    \n",
    "    # get thirds differnce in freq between the tones\n",
    "    freq_diff = (tone_0 - tone_1)/4.\n",
    "    \n",
    "    for jj in range(4):\n",
    "        adjustment = freq_diff*jj\n",
    "        this_tone = [tone_0 - adjustment]\n",
    "        print(this_tone)\n",
    "        adjusted_tone1 = complex_tone(this_tone, [10], 0.8)\n",
    "        play_sound(adjusted_tone1)    \n",
    "\n"
   ]
  },
  {
   "cell_type": "code",
   "execution_count": 212,
   "metadata": {},
   "outputs": [
    {
     "data": {
      "text/plain": [
       "380"
      ]
     },
     "execution_count": 212,
     "metadata": {},
     "output_type": "execute_result"
    }
   ],
   "source": [
    "(len(semitones) * 5 * 4)"
   ]
  },
  {
   "cell_type": "code",
   "execution_count": 213,
   "metadata": {},
   "outputs": [
    {
     "data": {
      "text/plain": [
       "250"
      ]
     },
     "execution_count": 213,
     "metadata": {},
     "output_type": "execute_result"
    }
   ],
   "source": [
    "10 * 5 * 5"
   ]
  },
  {
   "cell_type": "code",
   "execution_count": 181,
   "metadata": {},
   "outputs": [
    {
     "data": {
      "text/plain": [
       "14.333333333333334"
      ]
     },
     "execution_count": 181,
     "metadata": {},
     "output_type": "execute_result"
    }
   ],
   "source": [
    "freq_diff"
   ]
  },
  {
   "cell_type": "code",
   "execution_count": 176,
   "metadata": {},
   "outputs": [
    {
     "data": {
      "text/plain": [
       "3.25"
      ]
     },
     "execution_count": 176,
     "metadata": {},
     "output_type": "execute_result"
    }
   ],
   "source": [
    "13/4."
   ]
  },
  {
   "cell_type": "code",
   "execution_count": 207,
   "metadata": {
    "collapsed": true
   },
   "outputs": [],
   "source": [
    "adjusted_tone1 = complex_tone([624], [10], 0.8)\n",
    "play_sound(adjusted_tone1)    \n",
    "adjusted_tone2 = complex_tone([587], [10], 0.8)\n",
    "play_sound(adjusted_tone2)   \n",
    "\n",
    "# adjusted_tone1 = complex_tone([440], [15], 0.8)\n",
    "# play_sound(adjusted_tone1)    \n",
    "# adjusted_tone2 = complex_tone([446], [15], 0.8)\n",
    "# play_sound(adjusted_tone2)   "
   ]
  },
  {
   "cell_type": "code",
   "execution_count": 78,
   "metadata": {},
   "outputs": [
    {
     "ename": "IndexError",
     "evalue": "arrays used as indices must be of integer (or boolean) type",
     "output_type": "error",
     "traceback": [
      "\u001b[0;31m---------------------------------------------------------------------------\u001b[0m",
      "\u001b[0;31mIndexError\u001b[0m                                Traceback (most recent call last)",
      "\u001b[0;32m<ipython-input-78-5b2868cba2ab>\u001b[0m in \u001b[0;36m<module>\u001b[0;34m()\u001b[0m\n\u001b[1;32m      2\u001b[0m \u001b[0;34m\u001b[0m\u001b[0m\n\u001b[1;32m      3\u001b[0m \u001b[0mfreqs\u001b[0m \u001b[0;34m=\u001b[0m \u001b[0mnp\u001b[0m\u001b[0;34m.\u001b[0m\u001b[0mlinspace\u001b[0m\u001b[0;34m(\u001b[0m\u001b[0mmin_freq\u001b[0m\u001b[0;34m,\u001b[0m \u001b[0mmax_freq\u001b[0m\u001b[0;34m,\u001b[0m \u001b[0mmax_freq\u001b[0m\u001b[0;34m-\u001b[0m\u001b[0mmin_freq\u001b[0m\u001b[0;34m)\u001b[0m\u001b[0;34m\u001b[0m\u001b[0m\n\u001b[0;32m----> 4\u001b[0;31m \u001b[0mfreqs\u001b[0m\u001b[0;34m[\u001b[0m\u001b[0mnp\u001b[0m\u001b[0;34m.\u001b[0m\u001b[0mgeomspace\u001b[0m\u001b[0;34m(\u001b[0m\u001b[0;36m1\u001b[0m\u001b[0;34m,\u001b[0m \u001b[0mlen\u001b[0m\u001b[0;34m(\u001b[0m\u001b[0mfreqs\u001b[0m\u001b[0;34m)\u001b[0m\u001b[0;34m,\u001b[0m \u001b[0;36m10\u001b[0m\u001b[0;34m)\u001b[0m\u001b[0;34m]\u001b[0m\u001b[0;34m\u001b[0m\u001b[0m\n\u001b[0m",
      "\u001b[0;31mIndexError\u001b[0m: arrays used as indices must be of integer (or boolean) type"
     ]
    },
    {
     "data": {
      "image/png": "[encoded data removed]",
      "text/plain": [
       "<Figure size 432x288 with 1 Axes>"
      ]
     },
     "metadata": {},
     "output_type": "display_data"
    }
   ],
   "source": [
    "plt.plot(np.geomspace(200, 20000, 10))\n",
    "\n",
    "freqs = np.linspace(min_freq, max_freq, max_freq-min_freq)\n",
    "freqs[np.geomspace(1, len(freqs), 10)]"
   ]
  },
  {
   "cell_type": "code",
   "execution_count": 214,
   "metadata": {},
   "outputs": [
    {
     "data": {
      "text/plain": [
       "array([20000.        , 19963.98019641, 19927.99285772, 19892.03798393,\n",
       "       19856.11557503, 19820.22563104, 19784.36815194, 19748.54313773,\n",
       "       19712.75058843, 19676.99050402, 19641.26288451, 19605.56772989,\n",
       "       19569.90504018, 19534.27481536, 19498.67705543, 19463.11176041,\n",
       "       19427.57893028, 19392.07856505, 19356.61066472, 19321.17522928,\n",
       "       19285.77225875, 19250.4017531 , 19215.06371236, 19179.75813651,\n",
       "       19144.48502557, 19109.24437951, 19074.03619836, 19038.8604821 ,\n",
       "       19003.71723074, 18968.60644428, 18933.52812272, 18898.48226605,\n",
       "       18863.46887428, 18828.48794741, 18793.53948543, 18758.62348835,\n",
       "       18723.73995617, 18688.88888889, 18654.0702865 , 18619.28414901,\n",
       "       18584.53047642, 18549.80926873, 18515.12052593, 18480.46424803,\n",
       "       18445.84043503, 18411.24908692, 18376.69020372, 18342.16378541,\n",
       "       18307.66983199, 18273.20834348, 18238.77931986, 18204.38276114,\n",
       "       18170.01866732, 18135.68703839, 18101.38787436, 18067.12117523,\n",
       "       18032.886941  , 17998.68517166, 17964.51586722, 17930.37902768,\n",
       "       17896.27465303, 17862.20274328, 17828.16329843, 17794.15631848,\n",
       "       17760.18180343, 17726.23975327, 17692.33016801, 17658.45304764,\n",
       "       17624.60839218, 17590.79620161, 17557.01647594, 17523.26921516,\n",
       "       17489.55441928, 17455.8720883 , 17422.22222222, 17388.60482104,\n",
       "       17355.01988475, 17321.46741336, 17287.94740687, 17254.45986527,\n",
       "       17221.00478857, 17187.58217677, 17154.19202987, 17120.83434786,\n",
       "       17087.50913075, 17054.21637854, 17020.95609123, 16987.72826881,\n",
       "       16954.53291129, 16921.37001867, 16888.23959094, 16855.14162811,\n",
       "       16822.07613018, 16789.04309715, 16756.04252902, 16723.07442578,\n",
       "       16690.13878744, 16657.23561399, 16624.36490545, 16591.5266618 ,\n",
       "       16558.72088305, 16525.94756919, 16493.20672023, 16460.49833617,\n",
       "       16427.82241701, 16395.17896275, 16362.56797338, 16329.98944891,\n",
       "       16297.44338934, 16264.92979466, 16232.44866488, 16200.        ,\n",
       "       16167.58380002, 16135.20006493, 16102.84879474, 16070.52998945,\n",
       "       16038.24364905, 16005.98977356, 15973.76836296, 15941.57941726,\n",
       "       15909.42293645, 15877.29892054, 15845.20736953, 15813.14828342,\n",
       "       15781.1216622 , 15749.12750588, 15717.16581446, 15685.23658794,\n",
       "       15653.33982631, 15621.47552958, 15589.64369775, 15557.84433082,\n",
       "       15526.07742878, 15494.34299164, 15462.6410194 , 15430.97151205,\n",
       "       15399.3344696 , 15367.72989205, 15336.1577794 , 15304.61813165,\n",
       "       15273.11094879, 15241.63623083, 15210.19397776, 15178.7841896 ,\n",
       "       15147.40686633, 15116.06200795, 15084.74961448, 15053.4696859 ,\n",
       "       15022.22222222, 14991.00722344, 14959.82468955, 14928.67462057,\n",
       "       14897.55701648, 14866.47187728, 14835.41920299, 14804.39899359,\n",
       "       14773.41124909, 14742.45596948, 14711.53315478, 14680.64280497,\n",
       "       14649.78492006, 14618.95950004, 14588.16654492, 14557.4060547 ,\n",
       "       14526.67802938, 14495.98246896, 14465.31937343, 14434.6887428 ,\n",
       "       14404.09057706, 14373.52487623, 14342.99164029, 14312.49086925,\n",
       "       14282.0225631 , 14251.58672186, 14221.18334551, 14190.81243406,\n",
       "       14160.4739875 , 14130.16800584, 14099.89448908, 14069.65343722,\n",
       "       14039.44485026, 14009.26872819, 13979.12507102, 13949.01387874,\n",
       "       13918.93515137, 13888.88888889, 13858.87509131, 13828.89375862,\n",
       "       13798.94489084, 13769.02848795, 13739.14454996, 13709.29307686,\n",
       "       13679.47406866, 13649.68752536, 13619.93344696, 13590.21183346,\n",
       "       13560.52268485, 13530.86600114, 13501.24178232, 13471.65002841,\n",
       "       13442.09073939, 13412.56391527, 13383.06955604, 13353.60766172,\n",
       "       13324.17823229, 13294.78126775, 13265.41676812, 13236.08473338,\n",
       "       13206.78516354, 13177.5180586 , 13148.28341855, 13119.08124341,\n",
       "       13089.91153315, 13060.7742878 , 13031.66950735, 13002.59719179,\n",
       "       12973.55734112, 12944.54995536, 12915.57503449, 12886.63257852,\n",
       "       12857.72258745, 12828.84506128, 12800.        , 12771.18740362,\n",
       "       12742.40727214, 12713.65960555, 12684.94440386, 12656.26166707,\n",
       "       12627.61139518, 12598.99358818, 12570.40824608, 12541.85536888,\n",
       "       12513.33495658, 12484.84700917, 12456.39152666, 12427.96850905,\n",
       "       12399.57795633, 12371.21986852, 12342.8942456 , 12314.60108757,\n",
       "       12286.34039445, 12258.11216622, 12229.91640289, 12201.75310446,\n",
       "       12173.62227092, 12145.52390228, 12117.45799854, 12089.42455969,\n",
       "       12061.42358575, 12033.4550767 , 12005.51903255, 11977.61545329,\n",
       "       11949.74433893, 11921.90568947, 11894.09950491, 11866.32578524,\n",
       "       11838.58453048, 11810.87574061, 11783.19941563, 11755.55555556,\n",
       "       11727.94416038, 11700.36523009, 11672.81876471, 11645.30476422,\n",
       "       11617.82322863, 11590.37415794, 11562.95755215, 11535.57341125,\n",
       "       11508.22173525, 11480.90252415, 11453.61577794, 11426.36149663,\n",
       "       11399.13968022, 11371.95032871, 11344.79344209, 11317.66902037,\n",
       "       11290.57706355, 11263.51757163, 11236.4905446 , 11209.49598247,\n",
       "       11182.53388524, 11155.6042529 , 11128.70708546, 11101.84238292,\n",
       "       11075.01014528, 11048.21037253, 11021.44306469, 10994.70822174,\n",
       "       10968.00584368, 10941.33593053, 10914.69848227, 10888.0934989 ,\n",
       "       10861.52098044, 10834.98092687, 10808.4733382 , 10781.99821443,\n",
       "       10755.55555556, 10729.14536158, 10702.7676325 , 10676.42236831,\n",
       "       10650.10956903, 10623.82923464, 10597.58136515, 10571.36596056,\n",
       "       10545.18302086, 10519.03254606, 10492.91453616, 10466.82899115,\n",
       "       10440.77591105, 10414.75529584, 10388.76714552, 10362.81146011,\n",
       "       10336.88823959, 10310.99748397, 10285.13919325, 10259.31336742,\n",
       "       10233.52000649, 10207.75911046, 10182.03067933, 10156.33471309,\n",
       "       10130.67121175, 10105.04017531, 10079.44160377, 10053.87549712,\n",
       "       10028.34185537, 10002.84067852,  9977.37196656,  9951.9357195 ,\n",
       "        9926.53193734,  9901.16062008,  9875.82176771,  9850.51538025,\n",
       "        9825.24145767,  9800.        ,  9774.79100722,  9749.61447934,\n",
       "        9724.47041636,  9699.35881828,  9674.27968509,  9649.2330168 ,\n",
       "        9624.21881341,  9599.23707491,  9574.28780131,  9549.37099261,\n",
       "        9524.48664881,  9499.63476991,  9474.8153559 ,  9450.02840679,\n",
       "        9425.27392257,  9400.55190325,  9375.86234884,  9351.20525931,\n",
       "        9326.58063469,  9301.98847496,  9277.42878013,  9252.9015502 ,\n",
       "        9228.40678516,  9203.94448503,  9179.51464978,  9155.11727944,\n",
       "        9130.752374  ,  9106.41993345,  9082.1199578 ,  9057.85244704,\n",
       "        9033.61740118,  9009.41482023,  8985.24470416,  8961.107053  ,\n",
       "        8937.00186673,  8912.92914536,  8888.88888889,  8864.88109731,\n",
       "        8840.90577064,  8816.96290885,  8793.05251197,  8769.17457999,\n",
       "        8745.3291129 ,  8721.51611071,  8697.73557341,  8673.98750101,\n",
       "        8650.27189352,  8626.58875091,  8602.93807321,  8579.3198604 ,\n",
       "        8555.73411249,  8532.18082948,  8508.66001136,  8485.17165814,\n",
       "        8461.71576982,  8438.2923464 ,  8414.90138787,  8391.54289425,\n",
       "        8368.21686551,  8344.92330168,  8321.66220274,  8298.4335687 ,\n",
       "        8275.23739956,  8252.07369532,  8228.94245597,  8205.84368152,\n",
       "        8182.77737197,  8159.74352731,  8136.74214755,  8113.77323269,\n",
       "        8090.83678273,  8067.93279766,  8045.06127749,  8022.22222222,\n",
       "        7999.41563185,  7976.64150637,  7953.89984579,  7931.19065011,\n",
       "        7908.51391932,  7885.86965344,  7863.25785245,  7840.67851635,\n",
       "        7818.13164516,  7795.61723886,  7773.13529746,  7750.68582096,\n",
       "        7728.26880935,  7705.88426264,  7683.53218083,  7661.21256392,\n",
       "        7638.9254119 ,  7616.67072478,  7594.44850256,  7572.25874523,\n",
       "        7550.1014528 ,  7527.97662527,  7505.88426264,  7483.82436491,\n",
       "        7461.79693207,  7439.80196413,  7417.83946108,  7395.90942294,\n",
       "        7374.01184969,  7352.14674134,  7330.31409788,  7308.51391932,\n",
       "        7286.74620567,  7265.0109569 ,  7243.30817304,  7221.63785407,\n",
       "        7200.        ,  7178.39461083,  7156.82168655,  7135.28122717,\n",
       "        7113.77323269,  7092.29770311,  7070.85463842,  7049.44403863,\n",
       "        7028.06590374,  7006.72023375,  6985.40702865,  6964.12628845,\n",
       "        6942.87801315,  6921.66220274,  6900.47885724,  6879.32797663,\n",
       "        6858.20956091,  6837.1236101 ,  6816.07012418,  6795.04910316,\n",
       "        6774.06054703,  6753.10445581,  6732.18082948,  6711.28966805,\n",
       "        6690.43097151,  6669.60473988,  6648.81097314,  6628.04967129,\n",
       "        6607.32083435,  6586.6244623 ,  6565.96055515,  6545.3291129 ,\n",
       "        6524.73013554,  6504.16362308,  6483.62957552,  6463.12799286,\n",
       "        6442.65887509,  6422.22222222,  6401.81803425,  6381.44631118,\n",
       "        6361.107053  ,  6340.80025972,  6320.52593134,  6300.28406785,\n",
       "        6280.07466926,  6259.89773557,  6239.75326678,  6219.64126288,\n",
       "        6199.56172389,  6179.51464978,  6159.50004058,  6139.51789627,\n",
       "        6119.56821687,  6099.65100235,  6079.76625274,  6059.91396802,\n",
       "        6040.0941482 ,  6020.30679328,  6000.55190325,  5980.82947813,\n",
       "        5961.1395179 ,  5941.48202256,  5921.85699213,  5902.26442659,\n",
       "        5882.70432595,  5863.1766902 ,  5843.68151936,  5824.21881341,\n",
       "        5804.78857236,  5785.3907962 ,  5766.02548494,  5746.69263858,\n",
       "        5727.39225712,  5708.12434056,  5688.88888889,  5669.68590212,\n",
       "        5650.51538025,  5631.37732327,  5612.27173119,  5593.19860401,\n",
       "        5574.15794173,  5555.14974434,  5536.17401185,  5517.23074426,\n",
       "        5498.31994156,  5479.44160377,  5460.59573087,  5441.78232286,\n",
       "        5423.00137976,  5404.25290155,  5385.53688824,  5366.85333983,\n",
       "        5348.20225631,  5329.58363769,  5310.99748397,  5292.44379515,\n",
       "        5273.92257122,  5255.43381219,  5236.97751806,  5218.55368882,\n",
       "        5200.16232449,  5181.80342505,  5163.4769905 ,  5145.18302086,\n",
       "        5126.92151611,  5108.69247626,  5090.49590131,  5072.33179125,\n",
       "        5054.20014609,  5036.10096583,  5018.03425047,  5000.        ,\n",
       "        4981.99821443,  4964.02889376,  4946.09203798,  4928.18764711,\n",
       "        4910.31572113,  4892.47626004,  4874.66926386,  4856.89473257,\n",
       "        4839.15266618,  4821.44306469,  4803.76592809,  4786.12125639,\n",
       "        4768.50904959,  4750.92930769,  4733.38203068,  4715.86721857,\n",
       "        4698.38487136,  4680.93498904,  4663.51757163,  4646.13261911,\n",
       "        4628.78013148,  4611.46010876,  4594.17255093,  4576.917458  ,\n",
       "        4559.69482997,  4542.50466683,  4525.34696859,  4508.22173525,\n",
       "        4491.1289668 ,  4474.06866326,  4457.04082461,  4440.04545086,\n",
       "        4423.082542  ,  4406.15209804,  4389.25411898,  4372.38860482,\n",
       "        4355.55555556,  4338.75497119,  4321.98685172,  4305.25119714,\n",
       "        4288.54800747,  4271.87728269,  4255.23902281,  4238.63322782,\n",
       "        4222.05989774,  4205.51903255,  4189.01063225,  4172.53469686,\n",
       "        4156.09122636,  4139.68022076,  4123.30168006,  4106.95560425,\n",
       "        4090.64199334,  4074.36084733,  4058.11216622,  4041.89595   ,\n",
       "        4025.71219869,  4009.56091226,  3993.44209074,  3977.35573411,\n",
       "        3961.30184238,  3945.28041555,  3929.29145362,  3913.33495658,\n",
       "        3897.41092444,  3881.5193572 ,  3865.66025485,  3849.8336174 ,\n",
       "        3834.03944485,  3818.2777372 ,  3802.54849444,  3786.85171658,\n",
       "        3771.18740362,  3755.55555556,  3739.95617239,  3724.38925412,\n",
       "        3708.85480075,  3693.35281227,  3677.88328869,  3662.44623001,\n",
       "        3647.04163623,  3631.66950735,  3616.32984336,  3601.02264427,\n",
       "        3585.74791007,  3570.50564078,  3555.29583638,  3540.11849688,\n",
       "        3524.97362227,  3509.86121256,  3494.78126775,  3479.73378784,\n",
       "        3464.71877283,  3449.73622271,  3434.78613749,  3419.86851717,\n",
       "        3404.98336174,  3390.13067121,  3375.31044558,  3360.52268485,\n",
       "        3345.76738901,  3331.04455807,  3316.35419203,  3301.69629089,\n",
       "        3287.07085464,  3272.47788329,  3257.91737684,  3243.38933528,\n",
       "        3228.89375862,  3214.43064686,  3200.        ,  3185.60181803,\n",
       "        3171.23610097,  3156.90284879,  3142.60206152,  3128.33373914,\n",
       "        3114.09788167,  3099.89448908,  3085.7235614 ,  3071.58509861,\n",
       "        3057.47910072,  3043.40556773,  3029.36449963,  3015.35589644,\n",
       "        3001.37975814,  2987.43608473,  2973.52487623,  2959.64613262,\n",
       "        2945.79985391,  2931.98604009,  2918.20469118,  2904.45580716,\n",
       "        2890.73938804,  2877.05543381,  2863.40394449,  2849.78492006,\n",
       "        2836.19836052,  2822.64426589,  2809.12263615,  2795.63347131,\n",
       "        2782.17677137,  2768.75253632,  2755.36076617,  2742.00146092,\n",
       "        2728.67462057,  2715.38024511,  2702.11833455,  2688.88888889,\n",
       "        2675.69190812,  2662.52739226,  2649.39534129,  2636.29575521,\n",
       "        2623.22863404,  2610.19397776,  2597.19178638,  2584.2220599 ,\n",
       "        2571.28479831,  2558.38000162,  2545.50766983,  2532.66780294,\n",
       "        2519.86040094,  2507.08546384,  2494.34299164,  2481.63298434,\n",
       "        2468.95544193,  2456.31036442,  2443.69775181,  2431.11760409,\n",
       "        2418.56992127,  2406.05470335,  2393.57195033,  2381.1216622 ,\n",
       "        2368.70383897,  2356.31848064,  2343.96558721,  2331.64515867,\n",
       "        2319.35719503,  2307.10169629,  2294.87866245,  2282.6880935 ,\n",
       "        2270.52998945,  2258.4043503 ,  2246.31117604,  2234.25046668,\n",
       "        2222.22222222,  2210.22644266,  2198.26312799,  2186.33227822,\n",
       "        2174.43389335,  2162.56797338,  2150.7345183 ,  2138.93352812,\n",
       "        2127.16500284,  2115.42894246,  2103.72534697,  2092.05421638,\n",
       "        2080.41555069,  2068.80934989,  2057.23561399,  2045.69434299,\n",
       "        2034.18553689,  2022.70919568,  2011.26531937,  1999.85390796,\n",
       "        1988.47496145,  1977.12847983,  1965.81446311,  1954.53291129,\n",
       "        1943.28382436,  1932.06720234,  1920.88304521,  1909.73135297,\n",
       "        1898.61212564,  1887.5253632 ,  1876.47106566,  1865.44923302,\n",
       "        1854.45986527,  1843.50296242,  1832.57852447,  1821.68655142,\n",
       "        1810.82704326,  1800.        ,  1789.20542164,  1778.44330817,\n",
       "        1767.71365961,  1757.01647594,  1746.35175716,  1735.71950329,\n",
       "        1725.11971431,  1714.55239023,  1704.01753104,  1693.51513676,\n",
       "        1683.04520737,  1672.60774288,  1662.20274328,  1651.83020859,\n",
       "        1641.49013879,  1631.18253389,  1620.90739388,  1610.66471877,\n",
       "        1600.45450856,  1590.27676325,  1580.13148283,  1570.01866732,\n",
       "        1559.9383167 ,  1549.89043097,  1539.87501015,  1529.89205422,\n",
       "        1519.94156318,  1510.02353705,  1500.13797581,  1490.28487947,\n",
       "        1480.46424803,  1470.67608149,  1460.92037984,  1451.19714309,\n",
       "        1441.50637124,  1431.84806428,  1422.22222222,  1412.62884506,\n",
       "        1403.0679328 ,  1393.53948543,  1384.04350296,  1374.57998539,\n",
       "        1365.14893272,  1355.75034494,  1346.38422206,  1337.05056408,\n",
       "        1327.74937099,  1318.4806428 ,  1309.24437951,  1300.04058112,\n",
       "        1290.86924763,  1281.73037903,  1272.62397533,  1263.55003652,\n",
       "        1254.50856262,  1245.49955361,  1236.5230095 ,  1227.57893028,\n",
       "        1218.66731596,  1209.78816654,  1200.94148202,  1192.1272624 ,\n",
       "        1183.34550767,  1174.59621784,  1165.87939291,  1157.19503287,\n",
       "        1148.54313773,  1139.92370749,  1131.33674215,  1122.7822417 ,\n",
       "        1114.26020615,  1105.7706355 ,  1097.31352975,  1088.88888889,\n",
       "        1080.49671293,  1072.13700187,  1063.8097557 ,  1055.51497443,\n",
       "        1047.25265806,  1039.02280659,  1030.82542001,  1022.66049834,\n",
       "        1014.52804156,  1006.42804967,   998.36052268,   990.3254606 ,\n",
       "         982.3228634 ,   974.35273111,   966.41506371,   958.50986121,\n",
       "         950.63712361,   942.7968509 ,   934.9890431 ,   927.21370019,\n",
       "         919.47082217,   911.76040906,   904.08246084,   896.43697752,\n",
       "         888.82395909,   881.24340557,   873.69531694,   866.17969321,\n",
       "         858.69653437,   851.24584044,   843.8276114 ,   836.44184725,\n",
       "         829.08854801,   821.76771366,   814.47934421,   807.22343966,\n",
       "         800.        ,   792.80902524,   785.65051538,   778.52447042,\n",
       "         771.43089035,   764.36977518,   757.34112491,   750.34493953,\n",
       "         743.38121906,   736.44996348,   729.55117279,   722.68484701,\n",
       "         715.85098612,   709.04959013,   702.28065904,   695.54419284,\n",
       "         688.84019154,   682.16865514,   675.52958364,   668.92297703,\n",
       "         662.34883532,   655.80715851,   649.2979466 ,   642.82119958,\n",
       "         636.37691746,   629.96510024,   623.58574791,   617.23886048,\n",
       "         610.92443795,   604.64248032,   598.39298758,   592.17595974,\n",
       "         585.9913968 ,   579.83929876,   573.71966561,   567.63249736,\n",
       "         561.57779401,   555.55555556,   549.565782  ,   543.60847334,\n",
       "         537.68362958,   531.79125071,   525.93133674,   520.10388767,\n",
       "         514.3089035 ,   508.54638422,   502.81632984,   497.11874036,\n",
       "         491.45361578,   485.82095609,   480.2207613 ,   474.65303141,\n",
       "         469.11776642,   463.61496632,   458.14463112,   452.70676081,\n",
       "         447.30135541,   441.9284149 ,   436.58793929,   431.27992858,\n",
       "         426.00438276,   420.76130184,   415.55068582,   410.3725347 ,\n",
       "         405.22684847,   400.11362714,   395.03287071,   389.98457917,\n",
       "         384.96875254,   379.9853908 ,   375.03449395,   370.11606201,\n",
       "         365.23009496,   360.37659281,   355.55555556,   350.7669832 ,\n",
       "         346.01087574,   341.28723318,   336.59605551,   331.93734275,\n",
       "         327.31109488,   322.71731191,   318.15599383,   313.62714065,\n",
       "         309.13075237,   304.66682899,   300.23537051,   295.83637692,\n",
       "         291.46984823,   287.13578443,   282.83418554,   278.56505154,\n",
       "         274.32838244,   270.12417823,   265.95243893,   261.81316452,\n",
       "         257.706355  ,   253.63201039,   249.59013067,   245.58071585,\n",
       "         241.60376593,   237.6592809 ,   233.74726077,   229.86770554,\n",
       "         226.02061521,   222.20598977,   218.42382923,   214.67413359,\n",
       "         210.95690285,   207.272137  ,   203.61983605,   200.        ])"
      ]
     },
     "execution_count": 214,
     "metadata": {},
     "output_type": "execute_result"
    },
    {
     "data": {
      "image/png": "[encoded data removed]",
      "text/plain": [
       "<Figure size 432x288 with 1 Axes>"
      ]
     },
     "metadata": {},
     "output_type": "display_data"
    }
   ],
   "source": [
    "\n",
    "\n",
    "plt.plot(expspace(200, 20000, 1000, 'flip'))\n",
    "expspace(200, 20000, 1000, 'flip')"
   ]
  },
  {
   "cell_type": "code",
   "execution_count": 158,
   "metadata": {},
   "outputs": [
    {
     "data": {
      "text/plain": [
       "[<matplotlib.lines.Line2D at 0x11105b890>]"
      ]
     },
     "execution_count": 158,
     "metadata": {},
     "output_type": "execute_result"
    },
    {
     "data": {
      "image/png": "[encoded data removed]",
      "text/plain": [
       "<Figure size 432x288 with 1 Axes>"
      ]
     },
     "metadata": {},
     "output_type": "display_data"
    }
   ],
   "source": [
    "start = 0\n",
    "stop = 100\n",
    "num = 10\n",
    "\n",
    "plt.plot(np.linspace(np.sqrt(start), np.sqrt(stop), num)**2)"
   ]
  },
  {
   "cell_type": "code",
   "execution_count": 151,
   "metadata": {},
   "outputs": [
    {
     "data": {
      "text/plain": [
       "array([ 100.,  100.,  100.,  100.,  100.,  100.,  100.,   99.,   99.,\n",
       "         99.,   99.,   99.,   99.,   99.,   99.,   99.,   98.,   98.,\n",
       "         98.,   98.,   98.,   97.,   97.,   97.,   97.,   96.,   96.,\n",
       "         96.,   96.,   95.,   95.,   94.,   94.,   94.,   93.,   93.,\n",
       "         92.,   92.,   91.,   90.,   90.,   89.,   88.,   88.,   87.,\n",
       "         86.,   85.,   84.,   83.,   82.,   80.,   79.,   78.,   76.,\n",
       "         75.,   73.,   71.,   70.,   68.,   65.,   63.,   61.,   58.,\n",
       "         56.,   53.,   50.,   47.,   43.,   40.,   36.,   32.,   28.,\n",
       "         23.,   18.,   13.,    7.,    2.,   -5.,  -11.,  -18.,  -26.,\n",
       "        -34.,  -42.,  -51.,  -60.,  -70.,  -81.,  -92., -105., -117.,\n",
       "       -131., -145., -161., -177., -195., -213., -233., -253., -276.,\n",
       "       -299.])"
      ]
     },
     "execution_count": 151,
     "metadata": {},
     "output_type": "execute_result"
    }
   ],
   "source": [
    "np.round(101-np.geomspace(1, 400, 100))"
   ]
  },
  {
   "cell_type": "code",
   "execution_count": 63,
   "metadata": {},
   "outputs": [
    {
     "data": {
      "text/plain": [
       "2.0833333333333335"
      ]
     },
     "execution_count": 63,
     "metadata": {},
     "output_type": "execute_result"
    }
   ],
   "source": [
    "((10 * 5 * 5)*.5) / 60"
   ]
  },
  {
   "cell_type": "code",
   "execution_count": 20,
   "metadata": {},
   "outputs": [
    {
     "data": {
      "text/plain": [
       "[<matplotlib.lines.Line2D at 0x10a827110>]"
      ]
     },
     "execution_count": 20,
     "metadata": {},
     "output_type": "execute_result"
    },
    {
     "data": {
      "image/png": "[encoded data removed]",
      "text/plain": [
       "<Figure size 432x288 with 1 Axes>"
      ]
     },
     "metadata": {},
     "output_type": "display_data"
    }
   ],
   "source": [
    "plt.plot(tone[0:int(fs*tone_length)][0:100])"
   ]
  }
 ],
 "metadata": {
  "kernelspec": {
   "display_name": "Python 2",
   "language": "python",
   "name": "python2"
  },
  "language_info": {
   "codemirror_mode": {
    "name": "ipython",
    "version": 2
   },
   "file_extension": ".py",
   "mimetype": "text/x-python",
   "name": "python",
   "nbconvert_exporter": "python",
   "pygments_lexer": "ipython2",
   "version": "2.7.3"
  }
 },
 "nbformat": 4,
 "nbformat_minor": 2
}
